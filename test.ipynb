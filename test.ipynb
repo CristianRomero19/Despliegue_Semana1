{
 "cells": [
  {
   "cell_type": "code",
   "execution_count": 1,
   "metadata": {},
   "outputs": [],
   "source": [
    "import pandas as pd"
   ]
  },
  {
   "cell_type": "code",
   "execution_count": 2,
   "metadata": {},
   "outputs": [
    {
     "data": {
      "text/plain": [
       "time                                   object\n",
       "AT_load_actual_entsoe_transparency    float64\n",
       "forecast                              float64\n",
       "Upper bound                           float64\n",
       "Lower bound                           float64\n",
       "dtype: object"
      ]
     },
     "execution_count": 2,
     "metadata": {},
     "output_type": "execute_result"
    }
   ],
   "source": [
    "file = pd.read_csv('datos_energia.csv')\n",
    "file.dtypes"
   ]
  },
  {
   "cell_type": "code",
   "execution_count": 3,
   "metadata": {},
   "outputs": [
    {
     "data": {
      "text/html": [
       "<div>\n",
       "<style scoped>\n",
       "    .dataframe tbody tr th:only-of-type {\n",
       "        vertical-align: middle;\n",
       "    }\n",
       "\n",
       "    .dataframe tbody tr th {\n",
       "        vertical-align: top;\n",
       "    }\n",
       "\n",
       "    .dataframe thead th {\n",
       "        text-align: right;\n",
       "    }\n",
       "</style>\n",
       "<table border=\"1\" class=\"dataframe\">\n",
       "  <thead>\n",
       "    <tr style=\"text-align: right;\">\n",
       "      <th></th>\n",
       "      <th>time</th>\n",
       "      <th>AT_load_actual_entsoe_transparency</th>\n",
       "      <th>forecast</th>\n",
       "      <th>Upper bound</th>\n",
       "      <th>Lower bound</th>\n",
       "    </tr>\n",
       "  </thead>\n",
       "  <tbody>\n",
       "    <tr>\n",
       "      <th>0</th>\n",
       "      <td>2019-07-25 17:00:00</td>\n",
       "      <td>8172.0</td>\n",
       "      <td>NaN</td>\n",
       "      <td>NaN</td>\n",
       "      <td>NaN</td>\n",
       "    </tr>\n",
       "    <tr>\n",
       "      <th>1</th>\n",
       "      <td>2019-07-25 18:00:00</td>\n",
       "      <td>8107.0</td>\n",
       "      <td>NaN</td>\n",
       "      <td>NaN</td>\n",
       "      <td>NaN</td>\n",
       "    </tr>\n",
       "    <tr>\n",
       "      <th>2</th>\n",
       "      <td>2019-07-25 19:00:00</td>\n",
       "      <td>7781.0</td>\n",
       "      <td>NaN</td>\n",
       "      <td>NaN</td>\n",
       "      <td>NaN</td>\n",
       "    </tr>\n",
       "    <tr>\n",
       "      <th>3</th>\n",
       "      <td>2019-07-25 20:00:00</td>\n",
       "      <td>7436.0</td>\n",
       "      <td>NaN</td>\n",
       "      <td>NaN</td>\n",
       "      <td>NaN</td>\n",
       "    </tr>\n",
       "    <tr>\n",
       "      <th>4</th>\n",
       "      <td>2019-07-25 21:00:00</td>\n",
       "      <td>7219.0</td>\n",
       "      <td>NaN</td>\n",
       "      <td>NaN</td>\n",
       "      <td>NaN</td>\n",
       "    </tr>\n",
       "  </tbody>\n",
       "</table>\n",
       "</div>"
      ],
      "text/plain": [
       "                  time  AT_load_actual_entsoe_transparency  forecast  \\\n",
       "0  2019-07-25 17:00:00                              8172.0       NaN   \n",
       "1  2019-07-25 18:00:00                              8107.0       NaN   \n",
       "2  2019-07-25 19:00:00                              7781.0       NaN   \n",
       "3  2019-07-25 20:00:00                              7436.0       NaN   \n",
       "4  2019-07-25 21:00:00                              7219.0       NaN   \n",
       "\n",
       "   Upper bound  Lower bound  \n",
       "0          NaN          NaN  \n",
       "1          NaN          NaN  \n",
       "2          NaN          NaN  \n",
       "3          NaN          NaN  \n",
       "4          NaN          NaN  "
      ]
     },
     "execution_count": 3,
     "metadata": {},
     "output_type": "execute_result"
    }
   ],
   "source": [
    "file.head()"
   ]
  },
  {
   "cell_type": "code",
   "execution_count": 4,
   "metadata": {},
   "outputs": [
    {
     "data": {
      "text/plain": [
       "time                                  datetime64[ns]\n",
       "AT_load_actual_entsoe_transparency           float64\n",
       "forecast                                     float64\n",
       "Upper bound                                  float64\n",
       "Lower bound                                  float64\n",
       "dtype: object"
      ]
     },
     "execution_count": 4,
     "metadata": {},
     "output_type": "execute_result"
    }
   ],
   "source": [
    "file[\"time\"] = pd.to_datetime(file[\"time\"])\n",
    "file = file.set_index(file[\"time\"])\n",
    "file.dtypes"
   ]
  },
  {
   "cell_type": "code",
   "execution_count": 5,
   "metadata": {},
   "outputs": [
    {
     "data": {
      "text/html": [
       "<div>\n",
       "<style scoped>\n",
       "    .dataframe tbody tr th:only-of-type {\n",
       "        vertical-align: middle;\n",
       "    }\n",
       "\n",
       "    .dataframe tbody tr th {\n",
       "        vertical-align: top;\n",
       "    }\n",
       "\n",
       "    .dataframe thead th {\n",
       "        text-align: right;\n",
       "    }\n",
       "</style>\n",
       "<table border=\"1\" class=\"dataframe\">\n",
       "  <thead>\n",
       "    <tr style=\"text-align: right;\">\n",
       "      <th></th>\n",
       "      <th>time</th>\n",
       "      <th>AT_load_actual_entsoe_transparency</th>\n",
       "      <th>forecast</th>\n",
       "      <th>Upper bound</th>\n",
       "      <th>Lower bound</th>\n",
       "    </tr>\n",
       "    <tr>\n",
       "      <th>time</th>\n",
       "      <th></th>\n",
       "      <th></th>\n",
       "      <th></th>\n",
       "      <th></th>\n",
       "      <th></th>\n",
       "    </tr>\n",
       "  </thead>\n",
       "  <tbody>\n",
       "    <tr>\n",
       "      <th>2019-07-25 17:00:00</th>\n",
       "      <td>2019-07-25 17:00:00</td>\n",
       "      <td>8172.0</td>\n",
       "      <td>NaN</td>\n",
       "      <td>NaN</td>\n",
       "      <td>NaN</td>\n",
       "    </tr>\n",
       "    <tr>\n",
       "      <th>2019-07-25 18:00:00</th>\n",
       "      <td>2019-07-25 18:00:00</td>\n",
       "      <td>8107.0</td>\n",
       "      <td>NaN</td>\n",
       "      <td>NaN</td>\n",
       "      <td>NaN</td>\n",
       "    </tr>\n",
       "    <tr>\n",
       "      <th>2019-07-25 19:00:00</th>\n",
       "      <td>2019-07-25 19:00:00</td>\n",
       "      <td>7781.0</td>\n",
       "      <td>NaN</td>\n",
       "      <td>NaN</td>\n",
       "      <td>NaN</td>\n",
       "    </tr>\n",
       "    <tr>\n",
       "      <th>2019-07-25 20:00:00</th>\n",
       "      <td>2019-07-25 20:00:00</td>\n",
       "      <td>7436.0</td>\n",
       "      <td>NaN</td>\n",
       "      <td>NaN</td>\n",
       "      <td>NaN</td>\n",
       "    </tr>\n",
       "    <tr>\n",
       "      <th>2019-07-25 21:00:00</th>\n",
       "      <td>2019-07-25 21:00:00</td>\n",
       "      <td>7219.0</td>\n",
       "      <td>NaN</td>\n",
       "      <td>NaN</td>\n",
       "      <td>NaN</td>\n",
       "    </tr>\n",
       "  </tbody>\n",
       "</table>\n",
       "</div>"
      ],
      "text/plain": [
       "                                   time  AT_load_actual_entsoe_transparency  \\\n",
       "time                                                                          \n",
       "2019-07-25 17:00:00 2019-07-25 17:00:00                              8172.0   \n",
       "2019-07-25 18:00:00 2019-07-25 18:00:00                              8107.0   \n",
       "2019-07-25 19:00:00 2019-07-25 19:00:00                              7781.0   \n",
       "2019-07-25 20:00:00 2019-07-25 20:00:00                              7436.0   \n",
       "2019-07-25 21:00:00 2019-07-25 21:00:00                              7219.0   \n",
       "\n",
       "                     forecast  Upper bound  Lower bound  \n",
       "time                                                     \n",
       "2019-07-25 17:00:00       NaN          NaN          NaN  \n",
       "2019-07-25 18:00:00       NaN          NaN          NaN  \n",
       "2019-07-25 19:00:00       NaN          NaN          NaN  \n",
       "2019-07-25 20:00:00       NaN          NaN          NaN  \n",
       "2019-07-25 21:00:00       NaN          NaN          NaN  "
      ]
     },
     "execution_count": 5,
     "metadata": {},
     "output_type": "execute_result"
    }
   ],
   "source": [
    "file.head()"
   ]
  },
  {
   "cell_type": "code",
   "execution_count": 6,
   "metadata": {},
   "outputs": [
    {
     "data": {
      "text/plain": [
       "array([datetime.date(2019, 7, 25), datetime.date(2019, 7, 25),\n",
       "       datetime.date(2019, 7, 25), ..., datetime.date(2020, 10, 5),\n",
       "       datetime.date(2020, 10, 6), datetime.date(2020, 10, 6)],\n",
       "      dtype=object)"
      ]
     },
     "execution_count": 6,
     "metadata": {},
     "output_type": "execute_result"
    }
   ],
   "source": [
    "file.index.date"
   ]
  }
 ],
 "metadata": {
  "kernelspec": {
   "display_name": "Python 3",
   "language": "python",
   "name": "python3"
  },
  "language_info": {
   "codemirror_mode": {
    "name": "ipython",
    "version": 3
   },
   "file_extension": ".py",
   "mimetype": "text/x-python",
   "name": "python",
   "nbconvert_exporter": "python",
   "pygments_lexer": "ipython3",
   "version": "3.12.3"
  }
 },
 "nbformat": 4,
 "nbformat_minor": 2
}
